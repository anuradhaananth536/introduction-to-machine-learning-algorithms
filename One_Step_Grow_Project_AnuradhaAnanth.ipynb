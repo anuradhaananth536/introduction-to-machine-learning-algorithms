{
 "cells": [
  {
   "cell_type": "markdown",
   "id": "65180fb0",
   "metadata": {},
   "source": [
    "## Anuradha Ananth\n",
    "### Recreated what was taught in the webinar as well as the assignment"
   ]
  },
  {
   "cell_type": "code",
   "execution_count": 14,
   "id": "cca12047",
   "metadata": {},
   "outputs": [],
   "source": [
    "# Importing important libraries\n",
    "## Basic libraries\n",
    "\n",
    "import pandas as pd\n",
    "import numpy as np\n",
    "\n",
    "## Data Visualization\n",
    "import seaborn as sns\n",
    "import matplotlib.pyplot as plt\n",
    "%matplotlib inline"
   ]
  },
  {
   "cell_type": "code",
   "execution_count": 15,
   "id": "0b5b7658",
   "metadata": {},
   "outputs": [
    {
     "data": {
      "text/html": [
       "<div>\n",
       "<style scoped>\n",
       "    .dataframe tbody tr th:only-of-type {\n",
       "        vertical-align: middle;\n",
       "    }\n",
       "\n",
       "    .dataframe tbody tr th {\n",
       "        vertical-align: top;\n",
       "    }\n",
       "\n",
       "    .dataframe thead th {\n",
       "        text-align: right;\n",
       "    }\n",
       "</style>\n",
       "<table border=\"1\" class=\"dataframe\">\n",
       "  <thead>\n",
       "    <tr style=\"text-align: right;\">\n",
       "      <th></th>\n",
       "      <th>age</th>\n",
       "      <th>job</th>\n",
       "      <th>marital</th>\n",
       "      <th>education</th>\n",
       "      <th>default</th>\n",
       "      <th>balance</th>\n",
       "      <th>housing</th>\n",
       "      <th>loan</th>\n",
       "      <th>contact</th>\n",
       "      <th>day</th>\n",
       "      <th>month</th>\n",
       "      <th>duration</th>\n",
       "      <th>campaign</th>\n",
       "      <th>pdays</th>\n",
       "      <th>previous</th>\n",
       "      <th>poutcome</th>\n",
       "      <th>deposit</th>\n",
       "    </tr>\n",
       "  </thead>\n",
       "  <tbody>\n",
       "    <tr>\n",
       "      <th>0</th>\n",
       "      <td>59</td>\n",
       "      <td>admin.</td>\n",
       "      <td>married</td>\n",
       "      <td>secondary</td>\n",
       "      <td>no</td>\n",
       "      <td>2343</td>\n",
       "      <td>yes</td>\n",
       "      <td>no</td>\n",
       "      <td>unknown</td>\n",
       "      <td>5</td>\n",
       "      <td>may</td>\n",
       "      <td>1042</td>\n",
       "      <td>1</td>\n",
       "      <td>-1</td>\n",
       "      <td>0</td>\n",
       "      <td>unknown</td>\n",
       "      <td>yes</td>\n",
       "    </tr>\n",
       "    <tr>\n",
       "      <th>1</th>\n",
       "      <td>56</td>\n",
       "      <td>admin.</td>\n",
       "      <td>married</td>\n",
       "      <td>secondary</td>\n",
       "      <td>no</td>\n",
       "      <td>45</td>\n",
       "      <td>no</td>\n",
       "      <td>no</td>\n",
       "      <td>unknown</td>\n",
       "      <td>5</td>\n",
       "      <td>may</td>\n",
       "      <td>1467</td>\n",
       "      <td>1</td>\n",
       "      <td>-1</td>\n",
       "      <td>0</td>\n",
       "      <td>unknown</td>\n",
       "      <td>yes</td>\n",
       "    </tr>\n",
       "    <tr>\n",
       "      <th>2</th>\n",
       "      <td>41</td>\n",
       "      <td>technician</td>\n",
       "      <td>married</td>\n",
       "      <td>secondary</td>\n",
       "      <td>no</td>\n",
       "      <td>1270</td>\n",
       "      <td>yes</td>\n",
       "      <td>no</td>\n",
       "      <td>unknown</td>\n",
       "      <td>5</td>\n",
       "      <td>may</td>\n",
       "      <td>1389</td>\n",
       "      <td>1</td>\n",
       "      <td>-1</td>\n",
       "      <td>0</td>\n",
       "      <td>unknown</td>\n",
       "      <td>yes</td>\n",
       "    </tr>\n",
       "    <tr>\n",
       "      <th>3</th>\n",
       "      <td>55</td>\n",
       "      <td>services</td>\n",
       "      <td>married</td>\n",
       "      <td>secondary</td>\n",
       "      <td>no</td>\n",
       "      <td>2476</td>\n",
       "      <td>yes</td>\n",
       "      <td>no</td>\n",
       "      <td>unknown</td>\n",
       "      <td>5</td>\n",
       "      <td>may</td>\n",
       "      <td>579</td>\n",
       "      <td>1</td>\n",
       "      <td>-1</td>\n",
       "      <td>0</td>\n",
       "      <td>unknown</td>\n",
       "      <td>yes</td>\n",
       "    </tr>\n",
       "    <tr>\n",
       "      <th>4</th>\n",
       "      <td>54</td>\n",
       "      <td>admin.</td>\n",
       "      <td>married</td>\n",
       "      <td>tertiary</td>\n",
       "      <td>no</td>\n",
       "      <td>184</td>\n",
       "      <td>no</td>\n",
       "      <td>no</td>\n",
       "      <td>unknown</td>\n",
       "      <td>5</td>\n",
       "      <td>may</td>\n",
       "      <td>673</td>\n",
       "      <td>2</td>\n",
       "      <td>-1</td>\n",
       "      <td>0</td>\n",
       "      <td>unknown</td>\n",
       "      <td>yes</td>\n",
       "    </tr>\n",
       "  </tbody>\n",
       "</table>\n",
       "</div>"
      ],
      "text/plain": [
       "   age         job  marital  education default  balance housing loan  contact  \\\n",
       "0   59      admin.  married  secondary      no     2343     yes   no  unknown   \n",
       "1   56      admin.  married  secondary      no       45      no   no  unknown   \n",
       "2   41  technician  married  secondary      no     1270     yes   no  unknown   \n",
       "3   55    services  married  secondary      no     2476     yes   no  unknown   \n",
       "4   54      admin.  married   tertiary      no      184      no   no  unknown   \n",
       "\n",
       "   day month  duration  campaign  pdays  previous poutcome deposit  \n",
       "0    5   may      1042         1     -1         0  unknown     yes  \n",
       "1    5   may      1467         1     -1         0  unknown     yes  \n",
       "2    5   may      1389         1     -1         0  unknown     yes  \n",
       "3    5   may       579         1     -1         0  unknown     yes  \n",
       "4    5   may       673         2     -1         0  unknown     yes  "
      ]
     },
     "execution_count": 15,
     "metadata": {},
     "output_type": "execute_result"
    }
   ],
   "source": [
    "# Importing the dataset\n",
    "df=pd.read_csv('bank.csv')\n",
    "df.head()"
   ]
  },
  {
   "cell_type": "code",
   "execution_count": 16,
   "id": "79f74306",
   "metadata": {},
   "outputs": [
    {
     "name": "stdout",
     "output_type": "stream",
     "text": [
      "(11162, 17)\n"
     ]
    }
   ],
   "source": [
    "# Checking the shape of the data\n",
    "\n",
    "print(df.shape)"
   ]
  },
  {
   "cell_type": "code",
   "execution_count": 17,
   "id": "c56954cd",
   "metadata": {},
   "outputs": [
    {
     "data": {
      "text/plain": [
       "age          0\n",
       "job          0\n",
       "marital      0\n",
       "education    0\n",
       "default      0\n",
       "balance      0\n",
       "housing      0\n",
       "loan         0\n",
       "contact      0\n",
       "day          0\n",
       "month        0\n",
       "duration     0\n",
       "campaign     0\n",
       "pdays        0\n",
       "previous     0\n",
       "poutcome     0\n",
       "deposit      0\n",
       "dtype: int64"
      ]
     },
     "execution_count": 17,
     "metadata": {},
     "output_type": "execute_result"
    }
   ],
   "source": [
    "# Checking for null values\n",
    "\n",
    "df.isnull().sum()"
   ]
  },
  {
   "cell_type": "code",
   "execution_count": 18,
   "id": "2c29515d",
   "metadata": {},
   "outputs": [
    {
     "data": {
      "text/html": [
       "<div>\n",
       "<style scoped>\n",
       "    .dataframe tbody tr th:only-of-type {\n",
       "        vertical-align: middle;\n",
       "    }\n",
       "\n",
       "    .dataframe tbody tr th {\n",
       "        vertical-align: top;\n",
       "    }\n",
       "\n",
       "    .dataframe thead th {\n",
       "        text-align: right;\n",
       "    }\n",
       "</style>\n",
       "<table border=\"1\" class=\"dataframe\">\n",
       "  <thead>\n",
       "    <tr style=\"text-align: right;\">\n",
       "      <th></th>\n",
       "      <th>age</th>\n",
       "      <th>job</th>\n",
       "      <th>marital</th>\n",
       "      <th>education</th>\n",
       "      <th>default</th>\n",
       "      <th>balance</th>\n",
       "      <th>housing</th>\n",
       "      <th>loan</th>\n",
       "      <th>contact</th>\n",
       "      <th>day</th>\n",
       "      <th>month</th>\n",
       "      <th>campaign</th>\n",
       "      <th>pdays</th>\n",
       "      <th>previous</th>\n",
       "      <th>poutcome</th>\n",
       "      <th>deposit</th>\n",
       "    </tr>\n",
       "  </thead>\n",
       "  <tbody>\n",
       "    <tr>\n",
       "      <th>0</th>\n",
       "      <td>59</td>\n",
       "      <td>admin.</td>\n",
       "      <td>married</td>\n",
       "      <td>secondary</td>\n",
       "      <td>no</td>\n",
       "      <td>2343</td>\n",
       "      <td>yes</td>\n",
       "      <td>no</td>\n",
       "      <td>unknown</td>\n",
       "      <td>5</td>\n",
       "      <td>may</td>\n",
       "      <td>1</td>\n",
       "      <td>-1</td>\n",
       "      <td>0</td>\n",
       "      <td>unknown</td>\n",
       "      <td>yes</td>\n",
       "    </tr>\n",
       "    <tr>\n",
       "      <th>1</th>\n",
       "      <td>56</td>\n",
       "      <td>admin.</td>\n",
       "      <td>married</td>\n",
       "      <td>secondary</td>\n",
       "      <td>no</td>\n",
       "      <td>45</td>\n",
       "      <td>no</td>\n",
       "      <td>no</td>\n",
       "      <td>unknown</td>\n",
       "      <td>5</td>\n",
       "      <td>may</td>\n",
       "      <td>1</td>\n",
       "      <td>-1</td>\n",
       "      <td>0</td>\n",
       "      <td>unknown</td>\n",
       "      <td>yes</td>\n",
       "    </tr>\n",
       "    <tr>\n",
       "      <th>2</th>\n",
       "      <td>41</td>\n",
       "      <td>technician</td>\n",
       "      <td>married</td>\n",
       "      <td>secondary</td>\n",
       "      <td>no</td>\n",
       "      <td>1270</td>\n",
       "      <td>yes</td>\n",
       "      <td>no</td>\n",
       "      <td>unknown</td>\n",
       "      <td>5</td>\n",
       "      <td>may</td>\n",
       "      <td>1</td>\n",
       "      <td>-1</td>\n",
       "      <td>0</td>\n",
       "      <td>unknown</td>\n",
       "      <td>yes</td>\n",
       "    </tr>\n",
       "    <tr>\n",
       "      <th>3</th>\n",
       "      <td>55</td>\n",
       "      <td>services</td>\n",
       "      <td>married</td>\n",
       "      <td>secondary</td>\n",
       "      <td>no</td>\n",
       "      <td>2476</td>\n",
       "      <td>yes</td>\n",
       "      <td>no</td>\n",
       "      <td>unknown</td>\n",
       "      <td>5</td>\n",
       "      <td>may</td>\n",
       "      <td>1</td>\n",
       "      <td>-1</td>\n",
       "      <td>0</td>\n",
       "      <td>unknown</td>\n",
       "      <td>yes</td>\n",
       "    </tr>\n",
       "    <tr>\n",
       "      <th>4</th>\n",
       "      <td>54</td>\n",
       "      <td>admin.</td>\n",
       "      <td>married</td>\n",
       "      <td>tertiary</td>\n",
       "      <td>no</td>\n",
       "      <td>184</td>\n",
       "      <td>no</td>\n",
       "      <td>no</td>\n",
       "      <td>unknown</td>\n",
       "      <td>5</td>\n",
       "      <td>may</td>\n",
       "      <td>2</td>\n",
       "      <td>-1</td>\n",
       "      <td>0</td>\n",
       "      <td>unknown</td>\n",
       "      <td>yes</td>\n",
       "    </tr>\n",
       "  </tbody>\n",
       "</table>\n",
       "</div>"
      ],
      "text/plain": [
       "   age         job  marital  education default  balance housing loan  contact  \\\n",
       "0   59      admin.  married  secondary      no     2343     yes   no  unknown   \n",
       "1   56      admin.  married  secondary      no       45      no   no  unknown   \n",
       "2   41  technician  married  secondary      no     1270     yes   no  unknown   \n",
       "3   55    services  married  secondary      no     2476     yes   no  unknown   \n",
       "4   54      admin.  married   tertiary      no      184      no   no  unknown   \n",
       "\n",
       "   day month  campaign  pdays  previous poutcome deposit  \n",
       "0    5   may         1     -1         0  unknown     yes  \n",
       "1    5   may         1     -1         0  unknown     yes  \n",
       "2    5   may         1     -1         0  unknown     yes  \n",
       "3    5   may         1     -1         0  unknown     yes  \n",
       "4    5   may         2     -1         0  unknown     yes  "
      ]
     },
     "execution_count": 18,
     "metadata": {},
     "output_type": "execute_result"
    }
   ],
   "source": [
    "# Dropping the duration column\n",
    "df=df.drop('duration', axis=1)\n",
    "df.head()"
   ]
  },
  {
   "cell_type": "code",
   "execution_count": 19,
   "id": "383da6f0",
   "metadata": {},
   "outputs": [
    {
     "name": "stdout",
     "output_type": "stream",
     "text": [
      "(11162, 16)\n"
     ]
    }
   ],
   "source": [
    "# Printing the shape\n",
    "\n",
    "print(df.shape)"
   ]
  },
  {
   "cell_type": "code",
   "execution_count": 20,
   "id": "7d69b6b7",
   "metadata": {},
   "outputs": [
    {
     "data": {
      "text/plain": [
       "cellular     8042\n",
       "unknown      2346\n",
       "telephone     774\n",
       "Name: contact, dtype: int64"
      ]
     },
     "execution_count": 20,
     "metadata": {},
     "output_type": "execute_result"
    }
   ],
   "source": [
    "# getting proportion of different categories in contact\n",
    "df['contact'].value_counts()"
   ]
  },
  {
   "cell_type": "code",
   "execution_count": 21,
   "id": "cc98fe17",
   "metadata": {},
   "outputs": [
    {
     "data": {
      "text/plain": [
       "0.21017738756495252"
      ]
     },
     "execution_count": 21,
     "metadata": {},
     "output_type": "execute_result"
    }
   ],
   "source": [
    "2346/(8042+2346+774)\n",
    "\n",
    "# 21% of data points are having missing values"
   ]
  },
  {
   "cell_type": "code",
   "execution_count": 22,
   "id": "20ea8e68",
   "metadata": {},
   "outputs": [
    {
     "data": {
      "text/plain": [
       "unknown    8326\n",
       "failure    1228\n",
       "success    1071\n",
       "other       537\n",
       "Name: poutcome, dtype: int64"
      ]
     },
     "execution_count": 22,
     "metadata": {},
     "output_type": "execute_result"
    }
   ],
   "source": [
    "# getting proportion of different categories in contact\n",
    "df['poutcome'].value_counts()"
   ]
  },
  {
   "cell_type": "code",
   "execution_count": 23,
   "id": "6b13c5f3",
   "metadata": {},
   "outputs": [
    {
     "data": {
      "text/plain": [
       "0.7459236695932628"
      ]
     },
     "execution_count": 23,
     "metadata": {},
     "output_type": "execute_result"
    }
   ],
   "source": [
    "8326/11162"
   ]
  },
  {
   "cell_type": "code",
   "execution_count": 24,
   "id": "a01d458e",
   "metadata": {},
   "outputs": [
    {
     "data": {
      "text/plain": [
       "no     5873\n",
       "yes    5289\n",
       "Name: deposit, dtype: int64"
      ]
     },
     "execution_count": 24,
     "metadata": {},
     "output_type": "execute_result"
    }
   ],
   "source": [
    "# Getting proportion of values in target variable\n",
    "df['deposit'].value_counts()"
   ]
  },
  {
   "cell_type": "code",
   "execution_count": 25,
   "id": "610a6636",
   "metadata": {},
   "outputs": [
    {
     "data": {
      "text/plain": [
       "0.5261601863465328"
      ]
     },
     "execution_count": 25,
     "metadata": {},
     "output_type": "execute_result"
    }
   ],
   "source": [
    "5873/(5873+5289)"
   ]
  },
  {
   "cell_type": "code",
   "execution_count": 31,
   "id": "df9f36a8",
   "metadata": {},
   "outputs": [],
   "source": [
    "## Backup\n",
    "df_ready = df.copy()"
   ]
  },
  {
   "cell_type": "code",
   "execution_count": 32,
   "id": "b4a8d149",
   "metadata": {},
   "outputs": [
    {
     "ename": "AttributeError",
     "evalue": "'DataFrame' object has no attribute 'ready'",
     "output_type": "error",
     "traceback": [
      "\u001b[1;31m---------------------------------------------------------------------------\u001b[0m",
      "\u001b[1;31mAttributeError\u001b[0m                            Traceback (most recent call last)",
      "\u001b[1;32m~\\AppData\\Local\\Temp\\ipykernel_3276\\336510201.py\u001b[0m in \u001b[0;36m<module>\u001b[1;34m\u001b[0m\n\u001b[0;32m     13\u001b[0m \u001b[1;33m\u001b[0m\u001b[0m\n\u001b[0;32m     14\u001b[0m \u001b[0mdf_ready\u001b[0m\u001b[1;33m[\u001b[0m\u001b[0mnum_cols\u001b[0m\u001b[1;33m]\u001b[0m \u001b[1;33m=\u001b[0m \u001b[0mscaler\u001b[0m\u001b[1;33m.\u001b[0m\u001b[0mfit_transform\u001b[0m\u001b[1;33m(\u001b[0m\u001b[0mdf_ready\u001b[0m\u001b[1;33m[\u001b[0m\u001b[0mnum_cols\u001b[0m\u001b[1;33m]\u001b[0m\u001b[1;33m)\u001b[0m\u001b[1;33m\u001b[0m\u001b[1;33m\u001b[0m\u001b[0m\n\u001b[1;32m---> 15\u001b[1;33m \u001b[0mdf\u001b[0m\u001b[1;33m.\u001b[0m\u001b[0mready\u001b[0m\u001b[1;33m.\u001b[0m\u001b[0mhead\u001b[0m\u001b[1;33m(\u001b[0m\u001b[1;33m)\u001b[0m\u001b[1;33m\u001b[0m\u001b[1;33m\u001b[0m\u001b[0m\n\u001b[0m",
      "\u001b[1;32m~\\anaconda3\\lib\\site-packages\\pandas\\core\\generic.py\u001b[0m in \u001b[0;36m__getattr__\u001b[1;34m(self, name)\u001b[0m\n\u001b[0;32m   5573\u001b[0m         ):\n\u001b[0;32m   5574\u001b[0m             \u001b[1;32mreturn\u001b[0m \u001b[0mself\u001b[0m\u001b[1;33m[\u001b[0m\u001b[0mname\u001b[0m\u001b[1;33m]\u001b[0m\u001b[1;33m\u001b[0m\u001b[1;33m\u001b[0m\u001b[0m\n\u001b[1;32m-> 5575\u001b[1;33m         \u001b[1;32mreturn\u001b[0m \u001b[0mobject\u001b[0m\u001b[1;33m.\u001b[0m\u001b[0m__getattribute__\u001b[0m\u001b[1;33m(\u001b[0m\u001b[0mself\u001b[0m\u001b[1;33m,\u001b[0m \u001b[0mname\u001b[0m\u001b[1;33m)\u001b[0m\u001b[1;33m\u001b[0m\u001b[1;33m\u001b[0m\u001b[0m\n\u001b[0m\u001b[0;32m   5576\u001b[0m \u001b[1;33m\u001b[0m\u001b[0m\n\u001b[0;32m   5577\u001b[0m     \u001b[1;32mdef\u001b[0m \u001b[0m__setattr__\u001b[0m\u001b[1;33m(\u001b[0m\u001b[0mself\u001b[0m\u001b[1;33m,\u001b[0m \u001b[0mname\u001b[0m\u001b[1;33m:\u001b[0m \u001b[0mstr\u001b[0m\u001b[1;33m,\u001b[0m \u001b[0mvalue\u001b[0m\u001b[1;33m)\u001b[0m \u001b[1;33m->\u001b[0m \u001b[1;32mNone\u001b[0m\u001b[1;33m:\u001b[0m\u001b[1;33m\u001b[0m\u001b[1;33m\u001b[0m\u001b[0m\n",
      "\u001b[1;31mAttributeError\u001b[0m: 'DataFrame' object has no attribute 'ready'"
     ]
    }
   ],
   "source": [
    "# Standard scaler\n",
    "\n",
    "\n",
    "\n",
    "#Importing importing libraries\n",
    "\n",
    "from sklearn.preprocessing import StandardScaler\n",
    "\n",
    "## Initialization\n",
    "scaler = StandardScaler()\n",
    "\n",
    "num_cols = ['age','balance','day','campaign','pdays','previous']\n",
    "\n",
    "df_ready[num_cols] = scaler.fit_transform(df_ready[num_cols])\n",
    "df.ready.head()\n"
   ]
  },
  {
   "cell_type": "code",
   "execution_count": 35,
   "id": "103302fe",
   "metadata": {},
   "outputs": [
    {
     "data": {
      "text/html": [
       "<div>\n",
       "<style scoped>\n",
       "    .dataframe tbody tr th:only-of-type {\n",
       "        vertical-align: middle;\n",
       "    }\n",
       "\n",
       "    .dataframe tbody tr th {\n",
       "        vertical-align: top;\n",
       "    }\n",
       "\n",
       "    .dataframe thead th {\n",
       "        text-align: right;\n",
       "    }\n",
       "</style>\n",
       "<table border=\"1\" class=\"dataframe\">\n",
       "  <thead>\n",
       "    <tr style=\"text-align: right;\">\n",
       "      <th></th>\n",
       "      <th>age</th>\n",
       "      <th>balance</th>\n",
       "      <th>day</th>\n",
       "      <th>campaign</th>\n",
       "      <th>pdays</th>\n",
       "      <th>previous</th>\n",
       "      <th>deposit</th>\n",
       "      <th>job_admin.</th>\n",
       "      <th>job_blue-collar</th>\n",
       "      <th>job_entrepreneur</th>\n",
       "      <th>...</th>\n",
       "      <th>month_jun</th>\n",
       "      <th>month_mar</th>\n",
       "      <th>month_may</th>\n",
       "      <th>month_nov</th>\n",
       "      <th>month_oct</th>\n",
       "      <th>month_sep</th>\n",
       "      <th>poutcome_failure</th>\n",
       "      <th>poutcome_other</th>\n",
       "      <th>poutcome_success</th>\n",
       "      <th>poutcome_unknown</th>\n",
       "    </tr>\n",
       "  </thead>\n",
       "  <tbody>\n",
       "    <tr>\n",
       "      <th>0</th>\n",
       "      <td>1.491505</td>\n",
       "      <td>0.252525</td>\n",
       "      <td>-1.265746</td>\n",
       "      <td>-0.554168</td>\n",
       "      <td>-0.481184</td>\n",
       "      <td>-0.36326</td>\n",
       "      <td>1</td>\n",
       "      <td>1</td>\n",
       "      <td>0</td>\n",
       "      <td>0</td>\n",
       "      <td>...</td>\n",
       "      <td>0</td>\n",
       "      <td>0</td>\n",
       "      <td>1</td>\n",
       "      <td>0</td>\n",
       "      <td>0</td>\n",
       "      <td>0</td>\n",
       "      <td>0</td>\n",
       "      <td>0</td>\n",
       "      <td>0</td>\n",
       "      <td>1</td>\n",
       "    </tr>\n",
       "    <tr>\n",
       "      <th>1</th>\n",
       "      <td>1.239676</td>\n",
       "      <td>-0.459974</td>\n",
       "      <td>-1.265746</td>\n",
       "      <td>-0.554168</td>\n",
       "      <td>-0.481184</td>\n",
       "      <td>-0.36326</td>\n",
       "      <td>1</td>\n",
       "      <td>1</td>\n",
       "      <td>0</td>\n",
       "      <td>0</td>\n",
       "      <td>...</td>\n",
       "      <td>0</td>\n",
       "      <td>0</td>\n",
       "      <td>1</td>\n",
       "      <td>0</td>\n",
       "      <td>0</td>\n",
       "      <td>0</td>\n",
       "      <td>0</td>\n",
       "      <td>0</td>\n",
       "      <td>0</td>\n",
       "      <td>1</td>\n",
       "    </tr>\n",
       "    <tr>\n",
       "      <th>2</th>\n",
       "      <td>-0.019470</td>\n",
       "      <td>-0.080160</td>\n",
       "      <td>-1.265746</td>\n",
       "      <td>-0.554168</td>\n",
       "      <td>-0.481184</td>\n",
       "      <td>-0.36326</td>\n",
       "      <td>1</td>\n",
       "      <td>0</td>\n",
       "      <td>0</td>\n",
       "      <td>0</td>\n",
       "      <td>...</td>\n",
       "      <td>0</td>\n",
       "      <td>0</td>\n",
       "      <td>1</td>\n",
       "      <td>0</td>\n",
       "      <td>0</td>\n",
       "      <td>0</td>\n",
       "      <td>0</td>\n",
       "      <td>0</td>\n",
       "      <td>0</td>\n",
       "      <td>1</td>\n",
       "    </tr>\n",
       "    <tr>\n",
       "      <th>3</th>\n",
       "      <td>1.155733</td>\n",
       "      <td>0.293762</td>\n",
       "      <td>-1.265746</td>\n",
       "      <td>-0.554168</td>\n",
       "      <td>-0.481184</td>\n",
       "      <td>-0.36326</td>\n",
       "      <td>1</td>\n",
       "      <td>0</td>\n",
       "      <td>0</td>\n",
       "      <td>0</td>\n",
       "      <td>...</td>\n",
       "      <td>0</td>\n",
       "      <td>0</td>\n",
       "      <td>1</td>\n",
       "      <td>0</td>\n",
       "      <td>0</td>\n",
       "      <td>0</td>\n",
       "      <td>0</td>\n",
       "      <td>0</td>\n",
       "      <td>0</td>\n",
       "      <td>1</td>\n",
       "    </tr>\n",
       "    <tr>\n",
       "      <th>4</th>\n",
       "      <td>1.071790</td>\n",
       "      <td>-0.416876</td>\n",
       "      <td>-1.265746</td>\n",
       "      <td>-0.186785</td>\n",
       "      <td>-0.481184</td>\n",
       "      <td>-0.36326</td>\n",
       "      <td>1</td>\n",
       "      <td>1</td>\n",
       "      <td>0</td>\n",
       "      <td>0</td>\n",
       "      <td>...</td>\n",
       "      <td>0</td>\n",
       "      <td>0</td>\n",
       "      <td>1</td>\n",
       "      <td>0</td>\n",
       "      <td>0</td>\n",
       "      <td>0</td>\n",
       "      <td>0</td>\n",
       "      <td>0</td>\n",
       "      <td>0</td>\n",
       "      <td>1</td>\n",
       "    </tr>\n",
       "  </tbody>\n",
       "</table>\n",
       "<p>5 rows × 51 columns</p>\n",
       "</div>"
      ],
      "text/plain": [
       "        age   balance       day  campaign     pdays  previous  deposit  \\\n",
       "0  1.491505  0.252525 -1.265746 -0.554168 -0.481184  -0.36326        1   \n",
       "1  1.239676 -0.459974 -1.265746 -0.554168 -0.481184  -0.36326        1   \n",
       "2 -0.019470 -0.080160 -1.265746 -0.554168 -0.481184  -0.36326        1   \n",
       "3  1.155733  0.293762 -1.265746 -0.554168 -0.481184  -0.36326        1   \n",
       "4  1.071790 -0.416876 -1.265746 -0.186785 -0.481184  -0.36326        1   \n",
       "\n",
       "   job_admin.  job_blue-collar  job_entrepreneur  ...  month_jun  month_mar  \\\n",
       "0           1                0                 0  ...          0          0   \n",
       "1           1                0                 0  ...          0          0   \n",
       "2           0                0                 0  ...          0          0   \n",
       "3           0                0                 0  ...          0          0   \n",
       "4           1                0                 0  ...          0          0   \n",
       "\n",
       "   month_may  month_nov  month_oct  month_sep  poutcome_failure  \\\n",
       "0          1          0          0          0                 0   \n",
       "1          1          0          0          0                 0   \n",
       "2          1          0          0          0                 0   \n",
       "3          1          0          0          0                 0   \n",
       "4          1          0          0          0                 0   \n",
       "\n",
       "   poutcome_other  poutcome_success  poutcome_unknown  \n",
       "0               0                 0                 1  \n",
       "1               0                 0                 1  \n",
       "2               0                 0                 1  \n",
       "3               0                 0                 1  \n",
       "4               0                 0                 1  \n",
       "\n",
       "[5 rows x 51 columns]"
      ]
     },
     "execution_count": 35,
     "metadata": {},
     "output_type": "execute_result"
    }
   ],
   "source": [
    "# Dealing with categorical columns\n",
    "\n",
    "## List of categorical columns\n",
    "\n",
    "cat_cols = ['job','marital','education','default','housing','loan','contact','month','poutcome']\n",
    "\n",
    "## Encoding\n",
    "df_ready = pd.get_dummies(data = df_ready, columns = cat_cols)\n",
    "\n",
    "df_ready['deposit'] = df_ready['deposit'].apply(lambda x : 1 if x == 'yes' else 0)\n",
    "df_ready.head()"
   ]
  },
  {
   "cell_type": "code",
   "execution_count": 36,
   "id": "a2001cf0",
   "metadata": {},
   "outputs": [
    {
     "name": "stdout",
     "output_type": "stream",
     "text": [
      "(11162, 51)\n"
     ]
    }
   ],
   "source": [
    "# printing the shape\n",
    "\n",
    "print(df_ready.shape)"
   ]
  },
  {
   "cell_type": "code",
   "execution_count": 38,
   "id": "778ea226",
   "metadata": {},
   "outputs": [],
   "source": [
    "# Separating input and output features\n",
    "\n",
    "## Input features\n",
    "features = df_ready.drop('deposit', axis = 1)\n",
    "\n",
    "## target\n",
    "target = df_ready['deposit']"
   ]
  },
  {
   "cell_type": "code",
   "execution_count": 40,
   "id": "14c43603",
   "metadata": {},
   "outputs": [],
   "source": [
    "# Train Test Split\n",
    "from sklearn.model_selection import train_test_split\n",
    "X_train, X_test, y_train, y_test = train_test_split(features, target,\n",
    "                                                   test_size = 0.2, random_state = 7)"
   ]
  },
  {
   "cell_type": "code",
   "execution_count": 41,
   "id": "bc214d31",
   "metadata": {},
   "outputs": [
    {
     "data": {
      "text/plain": [
       "LogisticRegression(max_iter=10000000.0)"
      ]
     },
     "execution_count": 41,
     "metadata": {},
     "output_type": "execute_result"
    }
   ],
   "source": [
    "# Logistic regression\n",
    "# Model\n",
    "from sklearn.linear_model import LogisticRegression\n",
    "lr = LogisticRegression(max_iter = 10e6)\n",
    "\n",
    "# Fitting the model\n",
    "lr.fit(X_train, y_train)"
   ]
  },
  {
   "cell_type": "code",
   "execution_count": 42,
   "id": "1ba9a569",
   "metadata": {},
   "outputs": [],
   "source": [
    "# Predicting from the model\n",
    "y_pred = lr.predict(X_test)"
   ]
  },
  {
   "cell_type": "code",
   "execution_count": 43,
   "id": "83def8ae",
   "metadata": {},
   "outputs": [
    {
     "name": "stdout",
     "output_type": "stream",
     "text": [
      "Accuracy: 0.7017465293327362\n"
     ]
    }
   ],
   "source": [
    "# Evaluation\n",
    "from sklearn.metrics import accuracy_score\n",
    "print('Accuracy:', accuracy_score(y_test,y_pred))"
   ]
  },
  {
   "cell_type": "code",
   "execution_count": 44,
   "id": "7e4a2ff7",
   "metadata": {},
   "outputs": [],
   "source": [
    "# Support Vector Machines"
   ]
  },
  {
   "cell_type": "code",
   "execution_count": 45,
   "id": "99b50769",
   "metadata": {},
   "outputs": [
    {
     "data": {
      "text/plain": [
       "SVC()"
      ]
     },
     "execution_count": 45,
     "metadata": {},
     "output_type": "execute_result"
    }
   ],
   "source": [
    "# Model\n",
    "from sklearn.svm import SVC\n",
    "svm = SVC(kernel='rbf')\n",
    "\n",
    "# Fitting the model\n",
    "svm.fit(X_train, y_train)"
   ]
  },
  {
   "cell_type": "code",
   "execution_count": 46,
   "id": "2ab50dbb",
   "metadata": {},
   "outputs": [],
   "source": [
    "# Predicting from the model\n",
    "y_pred = svm.predict(X_test)"
   ]
  },
  {
   "cell_type": "code",
   "execution_count": 47,
   "id": "fc6dc4a1",
   "metadata": {},
   "outputs": [
    {
     "name": "stdout",
     "output_type": "stream",
     "text": [
      "Accuracy: 0.7362292879534259\n"
     ]
    }
   ],
   "source": [
    "# Evaluation\n",
    "from sklearn.metrics import accuracy_score\n",
    "print('Accuracy:', accuracy_score(y_test,y_pred))"
   ]
  },
  {
   "cell_type": "code",
   "execution_count": 48,
   "id": "897782d0",
   "metadata": {},
   "outputs": [],
   "source": [
    "# Decision tree classifier"
   ]
  },
  {
   "cell_type": "code",
   "execution_count": 49,
   "id": "db13b966",
   "metadata": {},
   "outputs": [
    {
     "data": {
      "text/plain": [
       "DecisionTreeClassifier()"
      ]
     },
     "execution_count": 49,
     "metadata": {},
     "output_type": "execute_result"
    }
   ],
   "source": [
    "# Model\n",
    "from sklearn.tree import DecisionTreeClassifier\n",
    "dt = DecisionTreeClassifier()\n",
    "\n",
    "# Fitting the model\n",
    "dt.fit(X_train, y_train)"
   ]
  },
  {
   "cell_type": "code",
   "execution_count": 50,
   "id": "e9515434",
   "metadata": {},
   "outputs": [],
   "source": [
    "# Predicting from the model\n",
    "y_pred = dt.predict(X_test)"
   ]
  },
  {
   "cell_type": "code",
   "execution_count": 51,
   "id": "4cfa5a28",
   "metadata": {},
   "outputs": [
    {
     "name": "stdout",
     "output_type": "stream",
     "text": [
      "Accuracy: 0.6287505597850426\n"
     ]
    }
   ],
   "source": [
    "# Evaluation\n",
    "from sklearn.metrics import accuracy_score\n",
    "print('Accuracy:', accuracy_score(y_test,y_pred))"
   ]
  },
  {
   "cell_type": "code",
   "execution_count": 82,
   "id": "c823392c",
   "metadata": {},
   "outputs": [],
   "source": [
    "from scipy.stats import loguniform\n",
    "from pandas import read_csv\n",
    "from sklearn.linear_model import LogisticRegression\n",
    "from sklearn.model_selection import RepeatedStratifiedKFold\n",
    "from sklearn.model_selection import RandomizedSearchCV\n",
    "from sklearn.model_selection import GridSearchCV\n",
    "from sklearn.tree import DecisionTreeRegressor"
   ]
  },
  {
   "cell_type": "code",
   "execution_count": 54,
   "id": "71f4ce3d",
   "metadata": {},
   "outputs": [],
   "source": [
    "dt = DecisionTreeClassifier(random_state=42)"
   ]
  },
  {
   "cell_type": "code",
   "execution_count": 56,
   "id": "1fdfdf24",
   "metadata": {},
   "outputs": [],
   "source": [
    "# Create the parameter grid based on the results of random search \n",
    "params = {\n",
    "    'max_depth': [2, 3, 5, 10, 20],\n",
    "    'min_samples_leaf': [5, 10, 20, 50, 100],\n",
    "    'criterion': [\"gini\", \"entropy\"]\n",
    "}"
   ]
  },
  {
   "cell_type": "code",
   "execution_count": 57,
   "id": "b42e0297",
   "metadata": {},
   "outputs": [],
   "source": [
    "# Instantiate the grid search model\n",
    "grid_search = GridSearchCV(estimator=dt, \n",
    "                           param_grid=params, \n",
    "                           cv=4, n_jobs=-1, verbose=1, scoring = \"accuracy\")"
   ]
  },
  {
   "cell_type": "code",
   "execution_count": 60,
   "id": "150be678",
   "metadata": {},
   "outputs": [
    {
     "name": "stdout",
     "output_type": "stream",
     "text": [
      "Fitting 10 folds for each of 50 candidates, totalling 500 fits\n",
      "[CV] END ....criterion=gini, max_depth=2, min_samples_leaf=5; total time=   0.0s\n",
      "[CV] END ....criterion=gini, max_depth=2, min_samples_leaf=5; total time=   0.0s\n",
      "[CV] END ....criterion=gini, max_depth=2, min_samples_leaf=5; total time=   0.0s\n",
      "[CV] END ....criterion=gini, max_depth=2, min_samples_leaf=5; total time=   0.0s\n",
      "[CV] END ....criterion=gini, max_depth=2, min_samples_leaf=5; total time=   0.0s\n",
      "[CV] END ....criterion=gini, max_depth=2, min_samples_leaf=5; total time=   0.0s\n",
      "[CV] END ....criterion=gini, max_depth=2, min_samples_leaf=5; total time=   0.0s\n",
      "[CV] END ....criterion=gini, max_depth=2, min_samples_leaf=5; total time=   0.0s\n",
      "[CV] END ....criterion=gini, max_depth=2, min_samples_leaf=5; total time=   0.0s\n",
      "[CV] END ....criterion=gini, max_depth=2, min_samples_leaf=5; total time=   0.0s\n",
      "[CV] END ...criterion=gini, max_depth=2, min_samples_leaf=10; total time=   0.0s\n",
      "[CV] END ...criterion=gini, max_depth=2, min_samples_leaf=10; total time=   0.0s\n",
      "[CV] END ...criterion=gini, max_depth=2, min_samples_leaf=10; total time=   0.0s\n",
      "[CV] END ...criterion=gini, max_depth=2, min_samples_leaf=10; total time=   0.0s\n",
      "[CV] END ...criterion=gini, max_depth=2, min_samples_leaf=10; total time=   0.0s\n",
      "[CV] END ...criterion=gini, max_depth=2, min_samples_leaf=10; total time=   0.0s\n",
      "[CV] END ...criterion=gini, max_depth=2, min_samples_leaf=10; total time=   0.0s\n",
      "[CV] END ...criterion=gini, max_depth=2, min_samples_leaf=10; total time=   0.0s\n",
      "[CV] END ...criterion=gini, max_depth=2, min_samples_leaf=10; total time=   0.0s\n",
      "[CV] END ...criterion=gini, max_depth=2, min_samples_leaf=10; total time=   0.0s\n",
      "[CV] END ...criterion=gini, max_depth=2, min_samples_leaf=20; total time=   0.0s\n",
      "[CV] END ...criterion=gini, max_depth=2, min_samples_leaf=20; total time=   0.0s\n",
      "[CV] END ...criterion=gini, max_depth=2, min_samples_leaf=20; total time=   0.0s\n",
      "[CV] END ...criterion=gini, max_depth=2, min_samples_leaf=20; total time=   0.0s\n",
      "[CV] END ...criterion=gini, max_depth=2, min_samples_leaf=20; total time=   0.0s\n",
      "[CV] END ...criterion=gini, max_depth=2, min_samples_leaf=20; total time=   0.0s\n",
      "[CV] END ...criterion=gini, max_depth=2, min_samples_leaf=20; total time=   0.0s\n",
      "[CV] END ...criterion=gini, max_depth=2, min_samples_leaf=20; total time=   0.0s\n",
      "[CV] END ...criterion=gini, max_depth=2, min_samples_leaf=20; total time=   0.0s\n",
      "[CV] END ...criterion=gini, max_depth=2, min_samples_leaf=20; total time=   0.0s\n",
      "[CV] END ...criterion=gini, max_depth=2, min_samples_leaf=50; total time=   0.0s\n",
      "[CV] END ...criterion=gini, max_depth=2, min_samples_leaf=50; total time=   0.0s\n",
      "[CV] END ...criterion=gini, max_depth=2, min_samples_leaf=50; total time=   0.0s\n",
      "[CV] END ...criterion=gini, max_depth=2, min_samples_leaf=50; total time=   0.0s\n",
      "[CV] END ...criterion=gini, max_depth=2, min_samples_leaf=50; total time=   0.0s\n",
      "[CV] END ...criterion=gini, max_depth=2, min_samples_leaf=50; total time=   0.0s\n",
      "[CV] END ...criterion=gini, max_depth=2, min_samples_leaf=50; total time=   0.0s\n",
      "[CV] END ...criterion=gini, max_depth=2, min_samples_leaf=50; total time=   0.0s\n",
      "[CV] END ...criterion=gini, max_depth=2, min_samples_leaf=50; total time=   0.0s\n",
      "[CV] END ...criterion=gini, max_depth=2, min_samples_leaf=50; total time=   0.0s\n",
      "[CV] END ..criterion=gini, max_depth=2, min_samples_leaf=100; total time=   0.0s\n",
      "[CV] END ..criterion=gini, max_depth=2, min_samples_leaf=100; total time=   0.0s\n",
      "[CV] END ..criterion=gini, max_depth=2, min_samples_leaf=100; total time=   0.0s\n",
      "[CV] END ..criterion=gini, max_depth=2, min_samples_leaf=100; total time=   0.0s\n",
      "[CV] END ..criterion=gini, max_depth=2, min_samples_leaf=100; total time=   0.0s\n",
      "[CV] END ..criterion=gini, max_depth=2, min_samples_leaf=100; total time=   0.0s\n",
      "[CV] END ..criterion=gini, max_depth=2, min_samples_leaf=100; total time=   0.0s\n",
      "[CV] END ..criterion=gini, max_depth=2, min_samples_leaf=100; total time=   0.0s\n",
      "[CV] END ..criterion=gini, max_depth=2, min_samples_leaf=100; total time=   0.0s\n",
      "[CV] END ..criterion=gini, max_depth=2, min_samples_leaf=100; total time=   0.0s\n",
      "[CV] END ....criterion=gini, max_depth=3, min_samples_leaf=5; total time=   0.0s\n",
      "[CV] END ....criterion=gini, max_depth=3, min_samples_leaf=5; total time=   0.0s\n",
      "[CV] END ....criterion=gini, max_depth=3, min_samples_leaf=5; total time=   0.0s\n",
      "[CV] END ....criterion=gini, max_depth=3, min_samples_leaf=5; total time=   0.0s\n",
      "[CV] END ....criterion=gini, max_depth=3, min_samples_leaf=5; total time=   0.0s\n",
      "[CV] END ....criterion=gini, max_depth=3, min_samples_leaf=5; total time=   0.0s\n",
      "[CV] END ....criterion=gini, max_depth=3, min_samples_leaf=5; total time=   0.0s\n",
      "[CV] END ....criterion=gini, max_depth=3, min_samples_leaf=5; total time=   0.0s\n",
      "[CV] END ....criterion=gini, max_depth=3, min_samples_leaf=5; total time=   0.0s\n",
      "[CV] END ....criterion=gini, max_depth=3, min_samples_leaf=5; total time=   0.0s\n",
      "[CV] END ...criterion=gini, max_depth=3, min_samples_leaf=10; total time=   0.0s\n",
      "[CV] END ...criterion=gini, max_depth=3, min_samples_leaf=10; total time=   0.0s\n",
      "[CV] END ...criterion=gini, max_depth=3, min_samples_leaf=10; total time=   0.0s\n",
      "[CV] END ...criterion=gini, max_depth=3, min_samples_leaf=10; total time=   0.0s\n",
      "[CV] END ...criterion=gini, max_depth=3, min_samples_leaf=10; total time=   0.0s\n",
      "[CV] END ...criterion=gini, max_depth=3, min_samples_leaf=10; total time=   0.0s\n",
      "[CV] END ...criterion=gini, max_depth=3, min_samples_leaf=10; total time=   0.0s\n",
      "[CV] END ...criterion=gini, max_depth=3, min_samples_leaf=10; total time=   0.0s\n",
      "[CV] END ...criterion=gini, max_depth=3, min_samples_leaf=10; total time=   0.0s\n",
      "[CV] END ...criterion=gini, max_depth=3, min_samples_leaf=10; total time=   0.0s\n",
      "[CV] END ...criterion=gini, max_depth=3, min_samples_leaf=20; total time=   0.0s\n",
      "[CV] END ...criterion=gini, max_depth=3, min_samples_leaf=20; total time=   0.0s\n",
      "[CV] END ...criterion=gini, max_depth=3, min_samples_leaf=20; total time=   0.0s\n",
      "[CV] END ...criterion=gini, max_depth=3, min_samples_leaf=20; total time=   0.0s\n",
      "[CV] END ...criterion=gini, max_depth=3, min_samples_leaf=20; total time=   0.0s\n",
      "[CV] END ...criterion=gini, max_depth=3, min_samples_leaf=20; total time=   0.0s\n",
      "[CV] END ...criterion=gini, max_depth=3, min_samples_leaf=20; total time=   0.0s\n",
      "[CV] END ...criterion=gini, max_depth=3, min_samples_leaf=20; total time=   0.0s\n",
      "[CV] END ...criterion=gini, max_depth=3, min_samples_leaf=20; total time=   0.0s\n",
      "[CV] END ...criterion=gini, max_depth=3, min_samples_leaf=20; total time=   0.0s\n",
      "[CV] END ...criterion=gini, max_depth=3, min_samples_leaf=50; total time=   0.0s\n",
      "[CV] END ...criterion=gini, max_depth=3, min_samples_leaf=50; total time=   0.0s\n",
      "[CV] END ...criterion=gini, max_depth=3, min_samples_leaf=50; total time=   0.0s\n",
      "[CV] END ...criterion=gini, max_depth=3, min_samples_leaf=50; total time=   0.0s\n",
      "[CV] END ...criterion=gini, max_depth=3, min_samples_leaf=50; total time=   0.0s\n",
      "[CV] END ...criterion=gini, max_depth=3, min_samples_leaf=50; total time=   0.0s\n",
      "[CV] END ...criterion=gini, max_depth=3, min_samples_leaf=50; total time=   0.0s\n",
      "[CV] END ...criterion=gini, max_depth=3, min_samples_leaf=50; total time=   0.0s\n",
      "[CV] END ...criterion=gini, max_depth=3, min_samples_leaf=50; total time=   0.0s\n",
      "[CV] END ...criterion=gini, max_depth=3, min_samples_leaf=50; total time=   0.0s\n",
      "[CV] END ..criterion=gini, max_depth=3, min_samples_leaf=100; total time=   0.0s\n",
      "[CV] END ..criterion=gini, max_depth=3, min_samples_leaf=100; total time=   0.0s\n",
      "[CV] END ..criterion=gini, max_depth=3, min_samples_leaf=100; total time=   0.0s\n",
      "[CV] END ..criterion=gini, max_depth=3, min_samples_leaf=100; total time=   0.0s\n",
      "[CV] END ..criterion=gini, max_depth=3, min_samples_leaf=100; total time=   0.0s\n",
      "[CV] END ..criterion=gini, max_depth=3, min_samples_leaf=100; total time=   0.0s\n",
      "[CV] END ..criterion=gini, max_depth=3, min_samples_leaf=100; total time=   0.0s\n",
      "[CV] END ..criterion=gini, max_depth=3, min_samples_leaf=100; total time=   0.0s\n",
      "[CV] END ..criterion=gini, max_depth=3, min_samples_leaf=100; total time=   0.0s\n",
      "[CV] END ..criterion=gini, max_depth=3, min_samples_leaf=100; total time=   0.0s\n",
      "[CV] END ....criterion=gini, max_depth=5, min_samples_leaf=5; total time=   0.0s\n",
      "[CV] END ....criterion=gini, max_depth=5, min_samples_leaf=5; total time=   0.0s\n",
      "[CV] END ....criterion=gini, max_depth=5, min_samples_leaf=5; total time=   0.0s\n",
      "[CV] END ....criterion=gini, max_depth=5, min_samples_leaf=5; total time=   0.0s\n",
      "[CV] END ....criterion=gini, max_depth=5, min_samples_leaf=5; total time=   0.0s\n",
      "[CV] END ....criterion=gini, max_depth=5, min_samples_leaf=5; total time=   0.0s\n",
      "[CV] END ....criterion=gini, max_depth=5, min_samples_leaf=5; total time=   0.0s\n",
      "[CV] END ....criterion=gini, max_depth=5, min_samples_leaf=5; total time=   0.0s\n",
      "[CV] END ....criterion=gini, max_depth=5, min_samples_leaf=5; total time=   0.0s\n",
      "[CV] END ....criterion=gini, max_depth=5, min_samples_leaf=5; total time=   0.0s\n",
      "[CV] END ...criterion=gini, max_depth=5, min_samples_leaf=10; total time=   0.0s\n",
      "[CV] END ...criterion=gini, max_depth=5, min_samples_leaf=10; total time=   0.0s\n",
      "[CV] END ...criterion=gini, max_depth=5, min_samples_leaf=10; total time=   0.0s\n",
      "[CV] END ...criterion=gini, max_depth=5, min_samples_leaf=10; total time=   0.0s\n",
      "[CV] END ...criterion=gini, max_depth=5, min_samples_leaf=10; total time=   0.0s\n",
      "[CV] END ...criterion=gini, max_depth=5, min_samples_leaf=10; total time=   0.0s\n",
      "[CV] END ...criterion=gini, max_depth=5, min_samples_leaf=10; total time=   0.0s\n",
      "[CV] END ...criterion=gini, max_depth=5, min_samples_leaf=10; total time=   0.0s\n",
      "[CV] END ...criterion=gini, max_depth=5, min_samples_leaf=10; total time=   0.0s\n",
      "[CV] END ...criterion=gini, max_depth=5, min_samples_leaf=10; total time=   0.0s\n",
      "[CV] END ...criterion=gini, max_depth=5, min_samples_leaf=20; total time=   0.0s\n",
      "[CV] END ...criterion=gini, max_depth=5, min_samples_leaf=20; total time=   0.0s\n",
      "[CV] END ...criterion=gini, max_depth=5, min_samples_leaf=20; total time=   0.0s\n",
      "[CV] END ...criterion=gini, max_depth=5, min_samples_leaf=20; total time=   0.0s\n",
      "[CV] END ...criterion=gini, max_depth=5, min_samples_leaf=20; total time=   0.0s\n",
      "[CV] END ...criterion=gini, max_depth=5, min_samples_leaf=20; total time=   0.0s\n",
      "[CV] END ...criterion=gini, max_depth=5, min_samples_leaf=20; total time=   0.0s\n",
      "[CV] END ...criterion=gini, max_depth=5, min_samples_leaf=20; total time=   0.0s\n",
      "[CV] END ...criterion=gini, max_depth=5, min_samples_leaf=20; total time=   0.0s\n",
      "[CV] END ...criterion=gini, max_depth=5, min_samples_leaf=20; total time=   0.0s\n",
      "[CV] END ...criterion=gini, max_depth=5, min_samples_leaf=50; total time=   0.0s\n",
      "[CV] END ...criterion=gini, max_depth=5, min_samples_leaf=50; total time=   0.0s\n",
      "[CV] END ...criterion=gini, max_depth=5, min_samples_leaf=50; total time=   0.0s\n",
      "[CV] END ...criterion=gini, max_depth=5, min_samples_leaf=50; total time=   0.0s\n",
      "[CV] END ...criterion=gini, max_depth=5, min_samples_leaf=50; total time=   0.0s\n",
      "[CV] END ...criterion=gini, max_depth=5, min_samples_leaf=50; total time=   0.0s\n",
      "[CV] END ...criterion=gini, max_depth=5, min_samples_leaf=50; total time=   0.0s\n",
      "[CV] END ...criterion=gini, max_depth=5, min_samples_leaf=50; total time=   0.0s\n",
      "[CV] END ...criterion=gini, max_depth=5, min_samples_leaf=50; total time=   0.0s\n",
      "[CV] END ...criterion=gini, max_depth=5, min_samples_leaf=50; total time=   0.0s\n",
      "[CV] END ..criterion=gini, max_depth=5, min_samples_leaf=100; total time=   0.0s\n",
      "[CV] END ..criterion=gini, max_depth=5, min_samples_leaf=100; total time=   0.0s\n",
      "[CV] END ..criterion=gini, max_depth=5, min_samples_leaf=100; total time=   0.0s\n",
      "[CV] END ..criterion=gini, max_depth=5, min_samples_leaf=100; total time=   0.0s\n",
      "[CV] END ..criterion=gini, max_depth=5, min_samples_leaf=100; total time=   0.0s\n",
      "[CV] END ..criterion=gini, max_depth=5, min_samples_leaf=100; total time=   0.0s\n",
      "[CV] END ..criterion=gini, max_depth=5, min_samples_leaf=100; total time=   0.0s\n",
      "[CV] END ..criterion=gini, max_depth=5, min_samples_leaf=100; total time=   0.0s\n",
      "[CV] END ..criterion=gini, max_depth=5, min_samples_leaf=100; total time=   0.0s\n",
      "[CV] END ..criterion=gini, max_depth=5, min_samples_leaf=100; total time=   0.0s\n",
      "[CV] END ...criterion=gini, max_depth=10, min_samples_leaf=5; total time=   0.0s\n",
      "[CV] END ...criterion=gini, max_depth=10, min_samples_leaf=5; total time=   0.0s\n",
      "[CV] END ...criterion=gini, max_depth=10, min_samples_leaf=5; total time=   0.0s\n",
      "[CV] END ...criterion=gini, max_depth=10, min_samples_leaf=5; total time=   0.0s\n",
      "[CV] END ...criterion=gini, max_depth=10, min_samples_leaf=5; total time=   0.0s\n",
      "[CV] END ...criterion=gini, max_depth=10, min_samples_leaf=5; total time=   0.0s\n",
      "[CV] END ...criterion=gini, max_depth=10, min_samples_leaf=5; total time=   0.0s\n",
      "[CV] END ...criterion=gini, max_depth=10, min_samples_leaf=5; total time=   0.0s\n",
      "[CV] END ...criterion=gini, max_depth=10, min_samples_leaf=5; total time=   0.0s\n",
      "[CV] END ...criterion=gini, max_depth=10, min_samples_leaf=5; total time=   0.0s\n",
      "[CV] END ..criterion=gini, max_depth=10, min_samples_leaf=10; total time=   0.0s\n",
      "[CV] END ..criterion=gini, max_depth=10, min_samples_leaf=10; total time=   0.0s\n",
      "[CV] END ..criterion=gini, max_depth=10, min_samples_leaf=10; total time=   0.0s\n",
      "[CV] END ..criterion=gini, max_depth=10, min_samples_leaf=10; total time=   0.0s\n",
      "[CV] END ..criterion=gini, max_depth=10, min_samples_leaf=10; total time=   0.0s\n",
      "[CV] END ..criterion=gini, max_depth=10, min_samples_leaf=10; total time=   0.0s\n",
      "[CV] END ..criterion=gini, max_depth=10, min_samples_leaf=10; total time=   0.0s\n",
      "[CV] END ..criterion=gini, max_depth=10, min_samples_leaf=10; total time=   0.0s\n",
      "[CV] END ..criterion=gini, max_depth=10, min_samples_leaf=10; total time=   0.0s\n",
      "[CV] END ..criterion=gini, max_depth=10, min_samples_leaf=10; total time=   0.0s\n",
      "[CV] END ..criterion=gini, max_depth=10, min_samples_leaf=20; total time=   0.0s\n",
      "[CV] END ..criterion=gini, max_depth=10, min_samples_leaf=20; total time=   0.0s\n",
      "[CV] END ..criterion=gini, max_depth=10, min_samples_leaf=20; total time=   0.0s\n",
      "[CV] END ..criterion=gini, max_depth=10, min_samples_leaf=20; total time=   0.0s\n",
      "[CV] END ..criterion=gini, max_depth=10, min_samples_leaf=20; total time=   0.0s\n",
      "[CV] END ..criterion=gini, max_depth=10, min_samples_leaf=20; total time=   0.0s\n",
      "[CV] END ..criterion=gini, max_depth=10, min_samples_leaf=20; total time=   0.0s\n",
      "[CV] END ..criterion=gini, max_depth=10, min_samples_leaf=20; total time=   0.0s\n",
      "[CV] END ..criterion=gini, max_depth=10, min_samples_leaf=20; total time=   0.0s\n",
      "[CV] END ..criterion=gini, max_depth=10, min_samples_leaf=20; total time=   0.0s\n",
      "[CV] END ..criterion=gini, max_depth=10, min_samples_leaf=50; total time=   0.0s\n",
      "[CV] END ..criterion=gini, max_depth=10, min_samples_leaf=50; total time=   0.0s\n",
      "[CV] END ..criterion=gini, max_depth=10, min_samples_leaf=50; total time=   0.0s\n",
      "[CV] END ..criterion=gini, max_depth=10, min_samples_leaf=50; total time=   0.0s\n",
      "[CV] END ..criterion=gini, max_depth=10, min_samples_leaf=50; total time=   0.0s\n",
      "[CV] END ..criterion=gini, max_depth=10, min_samples_leaf=50; total time=   0.0s\n",
      "[CV] END ..criterion=gini, max_depth=10, min_samples_leaf=50; total time=   0.0s\n",
      "[CV] END ..criterion=gini, max_depth=10, min_samples_leaf=50; total time=   0.0s\n",
      "[CV] END ..criterion=gini, max_depth=10, min_samples_leaf=50; total time=   0.0s\n",
      "[CV] END ..criterion=gini, max_depth=10, min_samples_leaf=50; total time=   0.0s\n",
      "[CV] END .criterion=gini, max_depth=10, min_samples_leaf=100; total time=   0.0s\n",
      "[CV] END .criterion=gini, max_depth=10, min_samples_leaf=100; total time=   0.0s\n",
      "[CV] END .criterion=gini, max_depth=10, min_samples_leaf=100; total time=   0.0s\n",
      "[CV] END .criterion=gini, max_depth=10, min_samples_leaf=100; total time=   0.0s\n",
      "[CV] END .criterion=gini, max_depth=10, min_samples_leaf=100; total time=   0.0s\n",
      "[CV] END .criterion=gini, max_depth=10, min_samples_leaf=100; total time=   0.0s\n",
      "[CV] END .criterion=gini, max_depth=10, min_samples_leaf=100; total time=   0.0s\n",
      "[CV] END .criterion=gini, max_depth=10, min_samples_leaf=100; total time=   0.0s\n",
      "[CV] END .criterion=gini, max_depth=10, min_samples_leaf=100; total time=   0.0s\n",
      "[CV] END .criterion=gini, max_depth=10, min_samples_leaf=100; total time=   0.0s\n",
      "[CV] END ...criterion=gini, max_depth=20, min_samples_leaf=5; total time=   0.0s\n",
      "[CV] END ...criterion=gini, max_depth=20, min_samples_leaf=5; total time=   0.0s\n",
      "[CV] END ...criterion=gini, max_depth=20, min_samples_leaf=5; total time=   0.0s\n",
      "[CV] END ...criterion=gini, max_depth=20, min_samples_leaf=5; total time=   0.0s\n",
      "[CV] END ...criterion=gini, max_depth=20, min_samples_leaf=5; total time=   0.0s\n",
      "[CV] END ...criterion=gini, max_depth=20, min_samples_leaf=5; total time=   0.0s\n",
      "[CV] END ...criterion=gini, max_depth=20, min_samples_leaf=5; total time=   0.0s\n",
      "[CV] END ...criterion=gini, max_depth=20, min_samples_leaf=5; total time=   0.0s\n",
      "[CV] END ...criterion=gini, max_depth=20, min_samples_leaf=5; total time=   0.0s\n",
      "[CV] END ...criterion=gini, max_depth=20, min_samples_leaf=5; total time=   0.0s\n",
      "[CV] END ..criterion=gini, max_depth=20, min_samples_leaf=10; total time=   0.0s\n",
      "[CV] END ..criterion=gini, max_depth=20, min_samples_leaf=10; total time=   0.0s\n",
      "[CV] END ..criterion=gini, max_depth=20, min_samples_leaf=10; total time=   0.0s\n",
      "[CV] END ..criterion=gini, max_depth=20, min_samples_leaf=10; total time=   0.0s\n",
      "[CV] END ..criterion=gini, max_depth=20, min_samples_leaf=10; total time=   0.0s\n",
      "[CV] END ..criterion=gini, max_depth=20, min_samples_leaf=10; total time=   0.0s\n",
      "[CV] END ..criterion=gini, max_depth=20, min_samples_leaf=10; total time=   0.0s\n",
      "[CV] END ..criterion=gini, max_depth=20, min_samples_leaf=10; total time=   0.0s\n",
      "[CV] END ..criterion=gini, max_depth=20, min_samples_leaf=10; total time=   0.0s\n",
      "[CV] END ..criterion=gini, max_depth=20, min_samples_leaf=10; total time=   0.0s\n",
      "[CV] END ..criterion=gini, max_depth=20, min_samples_leaf=20; total time=   0.0s\n",
      "[CV] END ..criterion=gini, max_depth=20, min_samples_leaf=20; total time=   0.0s\n",
      "[CV] END ..criterion=gini, max_depth=20, min_samples_leaf=20; total time=   0.0s\n",
      "[CV] END ..criterion=gini, max_depth=20, min_samples_leaf=20; total time=   0.0s\n",
      "[CV] END ..criterion=gini, max_depth=20, min_samples_leaf=20; total time=   0.0s\n",
      "[CV] END ..criterion=gini, max_depth=20, min_samples_leaf=20; total time=   0.0s\n",
      "[CV] END ..criterion=gini, max_depth=20, min_samples_leaf=20; total time=   0.0s\n",
      "[CV] END ..criterion=gini, max_depth=20, min_samples_leaf=20; total time=   0.0s\n",
      "[CV] END ..criterion=gini, max_depth=20, min_samples_leaf=20; total time=   0.0s\n",
      "[CV] END ..criterion=gini, max_depth=20, min_samples_leaf=20; total time=   0.0s\n",
      "[CV] END ..criterion=gini, max_depth=20, min_samples_leaf=50; total time=   0.0s\n",
      "[CV] END ..criterion=gini, max_depth=20, min_samples_leaf=50; total time=   0.0s\n",
      "[CV] END ..criterion=gini, max_depth=20, min_samples_leaf=50; total time=   0.0s\n",
      "[CV] END ..criterion=gini, max_depth=20, min_samples_leaf=50; total time=   0.0s\n",
      "[CV] END ..criterion=gini, max_depth=20, min_samples_leaf=50; total time=   0.0s\n",
      "[CV] END ..criterion=gini, max_depth=20, min_samples_leaf=50; total time=   0.0s\n",
      "[CV] END ..criterion=gini, max_depth=20, min_samples_leaf=50; total time=   0.0s\n",
      "[CV] END ..criterion=gini, max_depth=20, min_samples_leaf=50; total time=   0.0s\n",
      "[CV] END ..criterion=gini, max_depth=20, min_samples_leaf=50; total time=   0.0s\n",
      "[CV] END ..criterion=gini, max_depth=20, min_samples_leaf=50; total time=   0.0s\n",
      "[CV] END .criterion=gini, max_depth=20, min_samples_leaf=100; total time=   0.0s\n",
      "[CV] END .criterion=gini, max_depth=20, min_samples_leaf=100; total time=   0.0s\n",
      "[CV] END .criterion=gini, max_depth=20, min_samples_leaf=100; total time=   0.0s\n",
      "[CV] END .criterion=gini, max_depth=20, min_samples_leaf=100; total time=   0.0s\n",
      "[CV] END .criterion=gini, max_depth=20, min_samples_leaf=100; total time=   0.0s\n",
      "[CV] END .criterion=gini, max_depth=20, min_samples_leaf=100; total time=   0.0s\n",
      "[CV] END .criterion=gini, max_depth=20, min_samples_leaf=100; total time=   0.0s\n",
      "[CV] END .criterion=gini, max_depth=20, min_samples_leaf=100; total time=   0.0s\n",
      "[CV] END .criterion=gini, max_depth=20, min_samples_leaf=100; total time=   0.0s\n",
      "[CV] END .criterion=gini, max_depth=20, min_samples_leaf=100; total time=   0.0s\n",
      "[CV] END .criterion=entropy, max_depth=2, min_samples_leaf=5; total time=   0.0s\n",
      "[CV] END .criterion=entropy, max_depth=2, min_samples_leaf=5; total time=   0.0s\n",
      "[CV] END .criterion=entropy, max_depth=2, min_samples_leaf=5; total time=   0.0s\n",
      "[CV] END .criterion=entropy, max_depth=2, min_samples_leaf=5; total time=   0.0s\n",
      "[CV] END .criterion=entropy, max_depth=2, min_samples_leaf=5; total time=   0.0s\n",
      "[CV] END .criterion=entropy, max_depth=2, min_samples_leaf=5; total time=   0.0s\n",
      "[CV] END .criterion=entropy, max_depth=2, min_samples_leaf=5; total time=   0.0s\n",
      "[CV] END .criterion=entropy, max_depth=2, min_samples_leaf=5; total time=   0.0s\n",
      "[CV] END .criterion=entropy, max_depth=2, min_samples_leaf=5; total time=   0.0s\n",
      "[CV] END .criterion=entropy, max_depth=2, min_samples_leaf=5; total time=   0.0s\n",
      "[CV] END criterion=entropy, max_depth=2, min_samples_leaf=10; total time=   0.0s\n",
      "[CV] END criterion=entropy, max_depth=2, min_samples_leaf=10; total time=   0.0s\n",
      "[CV] END criterion=entropy, max_depth=2, min_samples_leaf=10; total time=   0.0s\n",
      "[CV] END criterion=entropy, max_depth=2, min_samples_leaf=10; total time=   0.0s\n",
      "[CV] END criterion=entropy, max_depth=2, min_samples_leaf=10; total time=   0.0s\n",
      "[CV] END criterion=entropy, max_depth=2, min_samples_leaf=10; total time=   0.0s\n",
      "[CV] END criterion=entropy, max_depth=2, min_samples_leaf=10; total time=   0.0s\n",
      "[CV] END criterion=entropy, max_depth=2, min_samples_leaf=10; total time=   0.0s\n",
      "[CV] END criterion=entropy, max_depth=2, min_samples_leaf=10; total time=   0.0s\n",
      "[CV] END criterion=entropy, max_depth=2, min_samples_leaf=10; total time=   0.0s\n",
      "[CV] END criterion=entropy, max_depth=2, min_samples_leaf=20; total time=   0.0s\n",
      "[CV] END criterion=entropy, max_depth=2, min_samples_leaf=20; total time=   0.0s\n",
      "[CV] END criterion=entropy, max_depth=2, min_samples_leaf=20; total time=   0.0s\n",
      "[CV] END criterion=entropy, max_depth=2, min_samples_leaf=20; total time=   0.0s\n",
      "[CV] END criterion=entropy, max_depth=2, min_samples_leaf=20; total time=   0.0s\n",
      "[CV] END criterion=entropy, max_depth=2, min_samples_leaf=20; total time=   0.0s\n",
      "[CV] END criterion=entropy, max_depth=2, min_samples_leaf=20; total time=   0.0s\n",
      "[CV] END criterion=entropy, max_depth=2, min_samples_leaf=20; total time=   0.0s\n",
      "[CV] END criterion=entropy, max_depth=2, min_samples_leaf=20; total time=   0.0s\n",
      "[CV] END criterion=entropy, max_depth=2, min_samples_leaf=20; total time=   0.0s\n",
      "[CV] END criterion=entropy, max_depth=2, min_samples_leaf=50; total time=   0.0s\n",
      "[CV] END criterion=entropy, max_depth=2, min_samples_leaf=50; total time=   0.0s\n",
      "[CV] END criterion=entropy, max_depth=2, min_samples_leaf=50; total time=   0.0s\n",
      "[CV] END criterion=entropy, max_depth=2, min_samples_leaf=50; total time=   0.0s\n",
      "[CV] END criterion=entropy, max_depth=2, min_samples_leaf=50; total time=   0.0s\n",
      "[CV] END criterion=entropy, max_depth=2, min_samples_leaf=50; total time=   0.0s\n",
      "[CV] END criterion=entropy, max_depth=2, min_samples_leaf=50; total time=   0.0s\n",
      "[CV] END criterion=entropy, max_depth=2, min_samples_leaf=50; total time=   0.0s\n",
      "[CV] END criterion=entropy, max_depth=2, min_samples_leaf=50; total time=   0.0s\n",
      "[CV] END criterion=entropy, max_depth=2, min_samples_leaf=50; total time=   0.0s\n",
      "[CV] END criterion=entropy, max_depth=2, min_samples_leaf=100; total time=   0.0s\n",
      "[CV] END criterion=entropy, max_depth=2, min_samples_leaf=100; total time=   0.0s\n",
      "[CV] END criterion=entropy, max_depth=2, min_samples_leaf=100; total time=   0.0s\n",
      "[CV] END criterion=entropy, max_depth=2, min_samples_leaf=100; total time=   0.0s\n",
      "[CV] END criterion=entropy, max_depth=2, min_samples_leaf=100; total time=   0.0s\n",
      "[CV] END criterion=entropy, max_depth=2, min_samples_leaf=100; total time=   0.0s\n",
      "[CV] END criterion=entropy, max_depth=2, min_samples_leaf=100; total time=   0.0s\n",
      "[CV] END criterion=entropy, max_depth=2, min_samples_leaf=100; total time=   0.0s\n",
      "[CV] END criterion=entropy, max_depth=2, min_samples_leaf=100; total time=   0.0s\n",
      "[CV] END criterion=entropy, max_depth=2, min_samples_leaf=100; total time=   0.0s\n",
      "[CV] END .criterion=entropy, max_depth=3, min_samples_leaf=5; total time=   0.0s\n",
      "[CV] END .criterion=entropy, max_depth=3, min_samples_leaf=5; total time=   0.0s\n",
      "[CV] END .criterion=entropy, max_depth=3, min_samples_leaf=5; total time=   0.0s\n",
      "[CV] END .criterion=entropy, max_depth=3, min_samples_leaf=5; total time=   0.0s\n",
      "[CV] END .criterion=entropy, max_depth=3, min_samples_leaf=5; total time=   0.0s\n",
      "[CV] END .criterion=entropy, max_depth=3, min_samples_leaf=5; total time=   0.0s\n",
      "[CV] END .criterion=entropy, max_depth=3, min_samples_leaf=5; total time=   0.0s\n",
      "[CV] END .criterion=entropy, max_depth=3, min_samples_leaf=5; total time=   0.0s\n",
      "[CV] END .criterion=entropy, max_depth=3, min_samples_leaf=5; total time=   0.0s\n",
      "[CV] END .criterion=entropy, max_depth=3, min_samples_leaf=5; total time=   0.0s\n",
      "[CV] END criterion=entropy, max_depth=3, min_samples_leaf=10; total time=   0.0s\n",
      "[CV] END criterion=entropy, max_depth=3, min_samples_leaf=10; total time=   0.0s\n",
      "[CV] END criterion=entropy, max_depth=3, min_samples_leaf=10; total time=   0.0s\n",
      "[CV] END criterion=entropy, max_depth=3, min_samples_leaf=10; total time=   0.0s\n",
      "[CV] END criterion=entropy, max_depth=3, min_samples_leaf=10; total time=   0.0s\n",
      "[CV] END criterion=entropy, max_depth=3, min_samples_leaf=10; total time=   0.0s\n",
      "[CV] END criterion=entropy, max_depth=3, min_samples_leaf=10; total time=   0.0s\n",
      "[CV] END criterion=entropy, max_depth=3, min_samples_leaf=10; total time=   0.0s\n",
      "[CV] END criterion=entropy, max_depth=3, min_samples_leaf=10; total time=   0.0s\n",
      "[CV] END criterion=entropy, max_depth=3, min_samples_leaf=10; total time=   0.0s\n",
      "[CV] END criterion=entropy, max_depth=3, min_samples_leaf=20; total time=   0.0s\n",
      "[CV] END criterion=entropy, max_depth=3, min_samples_leaf=20; total time=   0.0s\n",
      "[CV] END criterion=entropy, max_depth=3, min_samples_leaf=20; total time=   0.0s\n",
      "[CV] END criterion=entropy, max_depth=3, min_samples_leaf=20; total time=   0.0s\n",
      "[CV] END criterion=entropy, max_depth=3, min_samples_leaf=20; total time=   0.0s\n",
      "[CV] END criterion=entropy, max_depth=3, min_samples_leaf=20; total time=   0.0s\n",
      "[CV] END criterion=entropy, max_depth=3, min_samples_leaf=20; total time=   0.0s\n",
      "[CV] END criterion=entropy, max_depth=3, min_samples_leaf=20; total time=   0.0s\n",
      "[CV] END criterion=entropy, max_depth=3, min_samples_leaf=20; total time=   0.0s\n",
      "[CV] END criterion=entropy, max_depth=3, min_samples_leaf=20; total time=   0.0s\n",
      "[CV] END criterion=entropy, max_depth=3, min_samples_leaf=50; total time=   0.0s\n",
      "[CV] END criterion=entropy, max_depth=3, min_samples_leaf=50; total time=   0.0s\n",
      "[CV] END criterion=entropy, max_depth=3, min_samples_leaf=50; total time=   0.0s\n",
      "[CV] END criterion=entropy, max_depth=3, min_samples_leaf=50; total time=   0.0s\n",
      "[CV] END criterion=entropy, max_depth=3, min_samples_leaf=50; total time=   0.0s\n",
      "[CV] END criterion=entropy, max_depth=3, min_samples_leaf=50; total time=   0.0s\n",
      "[CV] END criterion=entropy, max_depth=3, min_samples_leaf=50; total time=   0.0s\n",
      "[CV] END criterion=entropy, max_depth=3, min_samples_leaf=50; total time=   0.0s\n",
      "[CV] END criterion=entropy, max_depth=3, min_samples_leaf=50; total time=   0.0s\n",
      "[CV] END criterion=entropy, max_depth=3, min_samples_leaf=50; total time=   0.0s\n",
      "[CV] END criterion=entropy, max_depth=3, min_samples_leaf=100; total time=   0.0s\n",
      "[CV] END criterion=entropy, max_depth=3, min_samples_leaf=100; total time=   0.0s\n",
      "[CV] END criterion=entropy, max_depth=3, min_samples_leaf=100; total time=   0.0s\n",
      "[CV] END criterion=entropy, max_depth=3, min_samples_leaf=100; total time=   0.0s\n",
      "[CV] END criterion=entropy, max_depth=3, min_samples_leaf=100; total time=   0.0s\n",
      "[CV] END criterion=entropy, max_depth=3, min_samples_leaf=100; total time=   0.0s\n",
      "[CV] END criterion=entropy, max_depth=3, min_samples_leaf=100; total time=   0.0s\n",
      "[CV] END criterion=entropy, max_depth=3, min_samples_leaf=100; total time=   0.0s\n",
      "[CV] END criterion=entropy, max_depth=3, min_samples_leaf=100; total time=   0.0s\n",
      "[CV] END criterion=entropy, max_depth=3, min_samples_leaf=100; total time=   0.0s\n",
      "[CV] END .criterion=entropy, max_depth=5, min_samples_leaf=5; total time=   0.0s\n",
      "[CV] END .criterion=entropy, max_depth=5, min_samples_leaf=5; total time=   0.0s\n",
      "[CV] END .criterion=entropy, max_depth=5, min_samples_leaf=5; total time=   0.0s\n",
      "[CV] END .criterion=entropy, max_depth=5, min_samples_leaf=5; total time=   0.0s\n",
      "[CV] END .criterion=entropy, max_depth=5, min_samples_leaf=5; total time=   0.0s\n",
      "[CV] END .criterion=entropy, max_depth=5, min_samples_leaf=5; total time=   0.0s\n",
      "[CV] END .criterion=entropy, max_depth=5, min_samples_leaf=5; total time=   0.0s\n",
      "[CV] END .criterion=entropy, max_depth=5, min_samples_leaf=5; total time=   0.0s\n",
      "[CV] END .criterion=entropy, max_depth=5, min_samples_leaf=5; total time=   0.0s\n",
      "[CV] END .criterion=entropy, max_depth=5, min_samples_leaf=5; total time=   0.0s\n",
      "[CV] END criterion=entropy, max_depth=5, min_samples_leaf=10; total time=   0.0s\n",
      "[CV] END criterion=entropy, max_depth=5, min_samples_leaf=10; total time=   0.0s\n",
      "[CV] END criterion=entropy, max_depth=5, min_samples_leaf=10; total time=   0.0s\n",
      "[CV] END criterion=entropy, max_depth=5, min_samples_leaf=10; total time=   0.0s\n",
      "[CV] END criterion=entropy, max_depth=5, min_samples_leaf=10; total time=   0.0s\n",
      "[CV] END criterion=entropy, max_depth=5, min_samples_leaf=10; total time=   0.0s\n",
      "[CV] END criterion=entropy, max_depth=5, min_samples_leaf=10; total time=   0.0s\n",
      "[CV] END criterion=entropy, max_depth=5, min_samples_leaf=10; total time=   0.0s\n",
      "[CV] END criterion=entropy, max_depth=5, min_samples_leaf=10; total time=   0.0s\n",
      "[CV] END criterion=entropy, max_depth=5, min_samples_leaf=10; total time=   0.0s\n",
      "[CV] END criterion=entropy, max_depth=5, min_samples_leaf=20; total time=   0.0s\n",
      "[CV] END criterion=entropy, max_depth=5, min_samples_leaf=20; total time=   0.0s\n",
      "[CV] END criterion=entropy, max_depth=5, min_samples_leaf=20; total time=   0.0s\n",
      "[CV] END criterion=entropy, max_depth=5, min_samples_leaf=20; total time=   0.0s\n",
      "[CV] END criterion=entropy, max_depth=5, min_samples_leaf=20; total time=   0.0s\n",
      "[CV] END criterion=entropy, max_depth=5, min_samples_leaf=20; total time=   0.0s\n",
      "[CV] END criterion=entropy, max_depth=5, min_samples_leaf=20; total time=   0.0s\n",
      "[CV] END criterion=entropy, max_depth=5, min_samples_leaf=20; total time=   0.0s\n",
      "[CV] END criterion=entropy, max_depth=5, min_samples_leaf=20; total time=   0.0s\n",
      "[CV] END criterion=entropy, max_depth=5, min_samples_leaf=20; total time=   0.0s\n",
      "[CV] END criterion=entropy, max_depth=5, min_samples_leaf=50; total time=   0.0s\n",
      "[CV] END criterion=entropy, max_depth=5, min_samples_leaf=50; total time=   0.0s\n",
      "[CV] END criterion=entropy, max_depth=5, min_samples_leaf=50; total time=   0.0s\n",
      "[CV] END criterion=entropy, max_depth=5, min_samples_leaf=50; total time=   0.0s\n",
      "[CV] END criterion=entropy, max_depth=5, min_samples_leaf=50; total time=   0.0s\n",
      "[CV] END criterion=entropy, max_depth=5, min_samples_leaf=50; total time=   0.0s\n",
      "[CV] END criterion=entropy, max_depth=5, min_samples_leaf=50; total time=   0.0s\n",
      "[CV] END criterion=entropy, max_depth=5, min_samples_leaf=50; total time=   0.0s\n",
      "[CV] END criterion=entropy, max_depth=5, min_samples_leaf=50; total time=   0.0s\n",
      "[CV] END criterion=entropy, max_depth=5, min_samples_leaf=50; total time=   0.0s\n",
      "[CV] END criterion=entropy, max_depth=5, min_samples_leaf=100; total time=   0.0s\n",
      "[CV] END criterion=entropy, max_depth=5, min_samples_leaf=100; total time=   0.0s\n",
      "[CV] END criterion=entropy, max_depth=5, min_samples_leaf=100; total time=   0.0s\n",
      "[CV] END criterion=entropy, max_depth=5, min_samples_leaf=100; total time=   0.0s\n",
      "[CV] END criterion=entropy, max_depth=5, min_samples_leaf=100; total time=   0.0s\n",
      "[CV] END criterion=entropy, max_depth=5, min_samples_leaf=100; total time=   0.0s\n",
      "[CV] END criterion=entropy, max_depth=5, min_samples_leaf=100; total time=   0.0s\n",
      "[CV] END criterion=entropy, max_depth=5, min_samples_leaf=100; total time=   0.0s\n",
      "[CV] END criterion=entropy, max_depth=5, min_samples_leaf=100; total time=   0.0s\n",
      "[CV] END criterion=entropy, max_depth=5, min_samples_leaf=100; total time=   0.0s\n",
      "[CV] END criterion=entropy, max_depth=10, min_samples_leaf=5; total time=   0.0s\n",
      "[CV] END criterion=entropy, max_depth=10, min_samples_leaf=5; total time=   0.0s\n",
      "[CV] END criterion=entropy, max_depth=10, min_samples_leaf=5; total time=   0.0s\n",
      "[CV] END criterion=entropy, max_depth=10, min_samples_leaf=5; total time=   0.0s\n",
      "[CV] END criterion=entropy, max_depth=10, min_samples_leaf=5; total time=   0.0s\n",
      "[CV] END criterion=entropy, max_depth=10, min_samples_leaf=5; total time=   0.0s\n",
      "[CV] END criterion=entropy, max_depth=10, min_samples_leaf=5; total time=   0.0s\n",
      "[CV] END criterion=entropy, max_depth=10, min_samples_leaf=5; total time=   0.0s\n",
      "[CV] END criterion=entropy, max_depth=10, min_samples_leaf=5; total time=   0.0s\n",
      "[CV] END criterion=entropy, max_depth=10, min_samples_leaf=5; total time=   0.0s\n",
      "[CV] END criterion=entropy, max_depth=10, min_samples_leaf=10; total time=   0.0s\n",
      "[CV] END criterion=entropy, max_depth=10, min_samples_leaf=10; total time=   0.0s\n",
      "[CV] END criterion=entropy, max_depth=10, min_samples_leaf=10; total time=   0.0s\n",
      "[CV] END criterion=entropy, max_depth=10, min_samples_leaf=10; total time=   0.0s\n",
      "[CV] END criterion=entropy, max_depth=10, min_samples_leaf=10; total time=   0.0s\n",
      "[CV] END criterion=entropy, max_depth=10, min_samples_leaf=10; total time=   0.0s\n",
      "[CV] END criterion=entropy, max_depth=10, min_samples_leaf=10; total time=   0.0s\n",
      "[CV] END criterion=entropy, max_depth=10, min_samples_leaf=10; total time=   0.0s\n",
      "[CV] END criterion=entropy, max_depth=10, min_samples_leaf=10; total time=   0.0s\n",
      "[CV] END criterion=entropy, max_depth=10, min_samples_leaf=10; total time=   0.0s\n",
      "[CV] END criterion=entropy, max_depth=10, min_samples_leaf=20; total time=   0.0s\n",
      "[CV] END criterion=entropy, max_depth=10, min_samples_leaf=20; total time=   0.0s\n",
      "[CV] END criterion=entropy, max_depth=10, min_samples_leaf=20; total time=   0.0s\n",
      "[CV] END criterion=entropy, max_depth=10, min_samples_leaf=20; total time=   0.0s\n",
      "[CV] END criterion=entropy, max_depth=10, min_samples_leaf=20; total time=   0.0s\n",
      "[CV] END criterion=entropy, max_depth=10, min_samples_leaf=20; total time=   0.0s\n",
      "[CV] END criterion=entropy, max_depth=10, min_samples_leaf=20; total time=   0.0s\n",
      "[CV] END criterion=entropy, max_depth=10, min_samples_leaf=20; total time=   0.0s\n",
      "[CV] END criterion=entropy, max_depth=10, min_samples_leaf=20; total time=   0.0s\n",
      "[CV] END criterion=entropy, max_depth=10, min_samples_leaf=20; total time=   0.0s\n",
      "[CV] END criterion=entropy, max_depth=10, min_samples_leaf=50; total time=   0.0s\n",
      "[CV] END criterion=entropy, max_depth=10, min_samples_leaf=50; total time=   0.0s\n",
      "[CV] END criterion=entropy, max_depth=10, min_samples_leaf=50; total time=   0.0s\n",
      "[CV] END criterion=entropy, max_depth=10, min_samples_leaf=50; total time=   0.0s\n",
      "[CV] END criterion=entropy, max_depth=10, min_samples_leaf=50; total time=   0.0s\n",
      "[CV] END criterion=entropy, max_depth=10, min_samples_leaf=50; total time=   0.0s\n",
      "[CV] END criterion=entropy, max_depth=10, min_samples_leaf=50; total time=   0.0s\n",
      "[CV] END criterion=entropy, max_depth=10, min_samples_leaf=50; total time=   0.0s\n",
      "[CV] END criterion=entropy, max_depth=10, min_samples_leaf=50; total time=   0.0s\n",
      "[CV] END criterion=entropy, max_depth=10, min_samples_leaf=50; total time=   0.0s\n",
      "[CV] END criterion=entropy, max_depth=10, min_samples_leaf=100; total time=   0.0s\n",
      "[CV] END criterion=entropy, max_depth=10, min_samples_leaf=100; total time=   0.0s\n",
      "[CV] END criterion=entropy, max_depth=10, min_samples_leaf=100; total time=   0.0s\n",
      "[CV] END criterion=entropy, max_depth=10, min_samples_leaf=100; total time=   0.0s\n",
      "[CV] END criterion=entropy, max_depth=10, min_samples_leaf=100; total time=   0.0s\n",
      "[CV] END criterion=entropy, max_depth=10, min_samples_leaf=100; total time=   0.0s\n",
      "[CV] END criterion=entropy, max_depth=10, min_samples_leaf=100; total time=   0.0s\n",
      "[CV] END criterion=entropy, max_depth=10, min_samples_leaf=100; total time=   0.0s\n",
      "[CV] END criterion=entropy, max_depth=10, min_samples_leaf=100; total time=   0.0s\n",
      "[CV] END criterion=entropy, max_depth=10, min_samples_leaf=100; total time=   0.0s\n",
      "[CV] END criterion=entropy, max_depth=20, min_samples_leaf=5; total time=   0.0s\n",
      "[CV] END criterion=entropy, max_depth=20, min_samples_leaf=5; total time=   0.0s\n",
      "[CV] END criterion=entropy, max_depth=20, min_samples_leaf=5; total time=   0.0s\n",
      "[CV] END criterion=entropy, max_depth=20, min_samples_leaf=5; total time=   0.0s\n",
      "[CV] END criterion=entropy, max_depth=20, min_samples_leaf=5; total time=   0.0s\n",
      "[CV] END criterion=entropy, max_depth=20, min_samples_leaf=5; total time=   0.0s\n",
      "[CV] END criterion=entropy, max_depth=20, min_samples_leaf=5; total time=   0.0s\n",
      "[CV] END criterion=entropy, max_depth=20, min_samples_leaf=5; total time=   0.0s\n",
      "[CV] END criterion=entropy, max_depth=20, min_samples_leaf=5; total time=   0.0s\n",
      "[CV] END criterion=entropy, max_depth=20, min_samples_leaf=5; total time=   0.1s\n",
      "[CV] END criterion=entropy, max_depth=20, min_samples_leaf=10; total time=   0.0s\n",
      "[CV] END criterion=entropy, max_depth=20, min_samples_leaf=10; total time=   0.0s\n",
      "[CV] END criterion=entropy, max_depth=20, min_samples_leaf=10; total time=   0.0s\n",
      "[CV] END criterion=entropy, max_depth=20, min_samples_leaf=10; total time=   0.0s\n",
      "[CV] END criterion=entropy, max_depth=20, min_samples_leaf=10; total time=   0.0s\n",
      "[CV] END criterion=entropy, max_depth=20, min_samples_leaf=10; total time=   0.0s\n",
      "[CV] END criterion=entropy, max_depth=20, min_samples_leaf=10; total time=   0.0s\n",
      "[CV] END criterion=entropy, max_depth=20, min_samples_leaf=10; total time=   0.0s\n",
      "[CV] END criterion=entropy, max_depth=20, min_samples_leaf=10; total time=   0.0s\n",
      "[CV] END criterion=entropy, max_depth=20, min_samples_leaf=10; total time=   0.0s\n",
      "[CV] END criterion=entropy, max_depth=20, min_samples_leaf=20; total time=   0.0s\n",
      "[CV] END criterion=entropy, max_depth=20, min_samples_leaf=20; total time=   0.0s\n",
      "[CV] END criterion=entropy, max_depth=20, min_samples_leaf=20; total time=   0.0s\n",
      "[CV] END criterion=entropy, max_depth=20, min_samples_leaf=20; total time=   0.0s\n",
      "[CV] END criterion=entropy, max_depth=20, min_samples_leaf=20; total time=   0.0s\n",
      "[CV] END criterion=entropy, max_depth=20, min_samples_leaf=20; total time=   0.0s\n",
      "[CV] END criterion=entropy, max_depth=20, min_samples_leaf=20; total time=   0.0s\n",
      "[CV] END criterion=entropy, max_depth=20, min_samples_leaf=20; total time=   0.0s\n",
      "[CV] END criterion=entropy, max_depth=20, min_samples_leaf=20; total time=   0.0s\n",
      "[CV] END criterion=entropy, max_depth=20, min_samples_leaf=20; total time=   0.0s\n",
      "[CV] END criterion=entropy, max_depth=20, min_samples_leaf=50; total time=   0.0s\n",
      "[CV] END criterion=entropy, max_depth=20, min_samples_leaf=50; total time=   0.0s\n",
      "[CV] END criterion=entropy, max_depth=20, min_samples_leaf=50; total time=   0.0s\n",
      "[CV] END criterion=entropy, max_depth=20, min_samples_leaf=50; total time=   0.0s\n",
      "[CV] END criterion=entropy, max_depth=20, min_samples_leaf=50; total time=   0.0s\n",
      "[CV] END criterion=entropy, max_depth=20, min_samples_leaf=50; total time=   0.0s\n",
      "[CV] END criterion=entropy, max_depth=20, min_samples_leaf=50; total time=   0.0s\n",
      "[CV] END criterion=entropy, max_depth=20, min_samples_leaf=50; total time=   0.0s\n",
      "[CV] END criterion=entropy, max_depth=20, min_samples_leaf=50; total time=   0.0s\n",
      "[CV] END criterion=entropy, max_depth=20, min_samples_leaf=50; total time=   0.0s\n",
      "[CV] END criterion=entropy, max_depth=20, min_samples_leaf=100; total time=   0.0s\n",
      "[CV] END criterion=entropy, max_depth=20, min_samples_leaf=100; total time=   0.0s\n",
      "[CV] END criterion=entropy, max_depth=20, min_samples_leaf=100; total time=   0.0s\n",
      "[CV] END criterion=entropy, max_depth=20, min_samples_leaf=100; total time=   0.0s\n",
      "[CV] END criterion=entropy, max_depth=20, min_samples_leaf=100; total time=   0.0s\n",
      "[CV] END criterion=entropy, max_depth=20, min_samples_leaf=100; total time=   0.0s\n",
      "[CV] END criterion=entropy, max_depth=20, min_samples_leaf=100; total time=   0.0s\n",
      "[CV] END criterion=entropy, max_depth=20, min_samples_leaf=100; total time=   0.0s\n",
      "[CV] END criterion=entropy, max_depth=20, min_samples_leaf=100; total time=   0.0s\n",
      "[CV] END criterion=entropy, max_depth=20, min_samples_leaf=100; total time=   0.0s\n"
     ]
    },
    {
     "data": {
      "text/plain": [
       "(0.700749350955865,\n",
       " {'criterion': 'gini', 'max_depth': 10, 'min_samples_leaf': 20})"
      ]
     },
     "execution_count": 60,
     "metadata": {},
     "output_type": "execute_result"
    }
   ],
   "source": [
    "# Create gridsearch instance\n",
    "#\n",
    "grid = GridSearchCV(estimator=dt,\n",
    "                    param_grid=params,\n",
    "                    cv=10,\n",
    "                    n_jobs=1,\n",
    "                    verbose=2)\n",
    "#\n",
    "# Fit the model\n",
    "#\n",
    "grid.fit(X_train, y_train)\n",
    "#\n",
    "# Assess the score\n",
    "#\n",
    "grid.best_score_, grid.best_params_\n"
   ]
  },
  {
   "cell_type": "code",
   "execution_count": 67,
   "id": "2c586e65",
   "metadata": {},
   "outputs": [],
   "source": [
    "tuned_hyper_model= DecisionTreeRegressor(max_depth=5,max_features='auto',max_leaf_nodes=50,min_samples_leaf=2,min_weight_fraction_leaf=0.1,splitter='random')"
   ]
  },
  {
   "cell_type": "code",
   "execution_count": 70,
   "id": "f6af1070",
   "metadata": {},
   "outputs": [],
   "source": [
    "reg_decision_model=DecisionTreeRegressor()"
   ]
  },
  {
   "cell_type": "code",
   "execution_count": null,
   "id": "29b25fb8",
   "metadata": {},
   "outputs": [],
   "source": []
  },
  {
   "cell_type": "code",
   "execution_count": 71,
   "id": "10bd1b3f",
   "metadata": {},
   "outputs": [
    {
     "data": {
      "text/plain": [
       "DecisionTreeRegressor()"
      ]
     },
     "execution_count": 71,
     "metadata": {},
     "output_type": "execute_result"
    }
   ],
   "source": [
    "# fit independent varaibles to the dependent variables\n",
    "reg_decision_model.fit(X_train,y_train)"
   ]
  },
  {
   "cell_type": "code",
   "execution_count": 73,
   "id": "bd92d1e1",
   "metadata": {},
   "outputs": [
    {
     "data": {
      "text/plain": [
       "1.0"
      ]
     },
     "execution_count": 73,
     "metadata": {},
     "output_type": "execute_result"
    }
   ],
   "source": [
    "reg_decision_model.score(X_train,y_train)"
   ]
  },
  {
   "cell_type": "code",
   "execution_count": 74,
   "id": "89ea92f9",
   "metadata": {},
   "outputs": [
    {
     "data": {
      "text/plain": [
       "-0.4576281840512153"
      ]
     },
     "execution_count": 74,
     "metadata": {},
     "output_type": "execute_result"
    }
   ],
   "source": [
    "reg_decision_model.score(X_test,y_test)"
   ]
  },
  {
   "cell_type": "code",
   "execution_count": 75,
   "id": "917c8c60",
   "metadata": {},
   "outputs": [
    {
     "data": {
      "text/plain": [
       "DecisionTreeRegressor(max_depth=5, max_features='auto', max_leaf_nodes=50,\n",
       "                      min_samples_leaf=2, min_weight_fraction_leaf=0.1,\n",
       "                      splitter='random')"
      ]
     },
     "execution_count": 75,
     "metadata": {},
     "output_type": "execute_result"
    }
   ],
   "source": [
    "tuned_hyper_model.fit(X_train,y_train)"
   ]
  },
  {
   "cell_type": "code",
   "execution_count": 76,
   "id": "a15ff4be",
   "metadata": {
    "scrolled": true
   },
   "outputs": [],
   "source": [
    "# prediction \n",
    "\n",
    "tuned_pred=tuned_hyper_model.predict(X_test)"
   ]
  },
  {
   "cell_type": "code",
   "execution_count": 77,
   "id": "b58d3308",
   "metadata": {},
   "outputs": [
    {
     "name": "stdout",
     "output_type": "stream",
     "text": [
      "MAE: 0.4365479518929114\n",
      "MSE: 0.21886977383970338\n",
      "RMSE: 0.4678351994449577\n"
     ]
    }
   ],
   "source": [
    "# With hyperparameter tuned \n",
    "\n",
    "from sklearn import metrics\n",
    "\n",
    "print('MAE:', metrics.mean_absolute_error(y_test,tuned_pred))\n",
    "print('MSE:', metrics.mean_squared_error(y_test, tuned_pred))\n",
    "print('RMSE:', np.sqrt(metrics.mean_squared_error(y_test, tuned_pred)))"
   ]
  },
  {
   "cell_type": "code",
   "execution_count": 79,
   "id": "92acdf82",
   "metadata": {},
   "outputs": [
    {
     "name": "stdout",
     "output_type": "stream",
     "text": [
      "MAE: 0.3627407075682938\n",
      "MSE: 0.3627407075682938\n",
      "RMSE: 0.6022795925218567\n"
     ]
    }
   ],
   "source": [
    "# without hyperparameter tuning \n",
    "prediction=reg_decision_model.predict(X_test)\n",
    "from sklearn import metrics\n",
    "\n",
    "print('MAE:', metrics.mean_absolute_error(y_test,prediction))\n",
    "print('MSE:', metrics.mean_squared_error(y_test, prediction))\n",
    "print('RMSE:', np.sqrt(metrics.mean_squared_error(y_test, prediction)))"
   ]
  },
  {
   "cell_type": "code",
   "execution_count": 87,
   "id": "e2ba41ae",
   "metadata": {},
   "outputs": [],
   "source": [
    "from sklearn.model_selection import RandomizedSearchCV\n",
    "from sklearn.ensemble import RandomForestClassifier\n",
    "from scipy.stats import randint as sp_randint\n",
    "from sklearn.ensemble import RandomForestClassifier"
   ]
  },
  {
   "cell_type": "code",
   "execution_count": 88,
   "id": "aba9b4e6",
   "metadata": {
    "scrolled": true
   },
   "outputs": [],
   "source": [
    "# build a RandomForestClassifier\n",
    "clf = RandomForestClassifier(n_estimators=50)"
   ]
  },
  {
   "cell_type": "code",
   "execution_count": 89,
   "id": "9d09a223",
   "metadata": {},
   "outputs": [],
   "source": [
    "#Specifying the list of parameters and distributions\n",
    "\n",
    "param_dist = {\"max_depth\": [3, None],\n",
    "              \"max_features\": sp_randint(1, 11),\n",
    "              \"min_samples_split\": sp_randint(2, 11),\n",
    "              \"min_samples_leaf\": sp_randint(1, 11),\n",
    "              \"bootstrap\": [True, False],\n",
    "              \"criterion\": [\"gini\", \"entropy\"]}"
   ]
  },
  {
   "cell_type": "code",
   "execution_count": 90,
   "id": "13ac1db7",
   "metadata": {},
   "outputs": [],
   "source": [
    "#Defining the sample, distributions and cross-validation\n",
    "\n",
    "samples = 8  # number of random samples \n",
    "randomCV = RandomizedSearchCV(clf, param_distributions=param_dist, n_iter=samples,cv=3)"
   ]
  },
  {
   "cell_type": "code",
   "execution_count": 95,
   "id": "8f9b4007",
   "metadata": {},
   "outputs": [
    {
     "name": "stdout",
     "output_type": "stream",
     "text": [
      "{'bootstrap': False, 'criterion': 'entropy', 'max_depth': None, 'max_features': 8, 'min_samples_leaf': 7, 'min_samples_split': 10}\n"
     ]
    }
   ],
   "source": [
    "#All parameters are set and, let’s do the fit model\n",
    "\n",
    "randomCV.fit(X_train, y_train)\n",
    "print(randomCV.best_params_)"
   ]
  },
  {
   "cell_type": "code",
   "execution_count": 97,
   "id": "21b44ebc",
   "metadata": {},
   "outputs": [
    {
     "name": "stdout",
     "output_type": "stream",
     "text": [
      "0.7460815047021944\n"
     ]
    }
   ],
   "source": [
    "print(randomCV.score(X_test,y_test))"
   ]
  },
  {
   "cell_type": "markdown",
   "id": "55fdabab",
   "metadata": {},
   "source": [
    "##### Hence we can see that, by using GridSearchCv() and training \n",
    "##### the Decision Tree Classifier using optimal values of the hyper-parameters, the accuracy increases to 74% from 62.87%"
   ]
  },
  {
   "cell_type": "code",
   "execution_count": null,
   "id": "cf8d674d",
   "metadata": {},
   "outputs": [],
   "source": []
  }
 ],
 "metadata": {
  "kernelspec": {
   "display_name": "Python 3 (ipykernel)",
   "language": "python",
   "name": "python3"
  },
  "language_info": {
   "codemirror_mode": {
    "name": "ipython",
    "version": 3
   },
   "file_extension": ".py",
   "mimetype": "text/x-python",
   "name": "python",
   "nbconvert_exporter": "python",
   "pygments_lexer": "ipython3",
   "version": "3.9.13"
  }
 },
 "nbformat": 4,
 "nbformat_minor": 5
}
